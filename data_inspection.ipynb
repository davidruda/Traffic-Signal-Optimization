{
 "cells": [
  {
   "cell_type": "code",
   "execution_count": 1,
   "metadata": {},
   "outputs": [],
   "source": [
    "import os\n",
    "import numpy as np\n",
    "\n",
    "from simulation import Simulation\n",
    "\n",
    "INPUT_FOLDER = 'input_data'\n",
    "DATA = [\n",
    "    'a_an_example.in.txt',\n",
    "    'b_by_the_ocean.in.txt',\n",
    "    'c_checkmate.in.txt',\n",
    "    'd_daily_commute.in.txt',\n",
    "    'e_etoile.in.txt',\n",
    "    'f_forever_jammed.in.txt'\n",
    "    ]"
   ]
  },
  {
   "cell_type": "code",
   "execution_count": 2,
   "metadata": {},
   "outputs": [],
   "source": [
    "def car_summary(sim):\n",
    "    print(f'Number of cars: {len(sim.cars)}')\n",
    "    path_lengths = np.array([sum(p.length for p in car.path[1:]) for car in sim.cars])\n",
    "    paths_in_time = path_lengths[path_lengths <= sim.duration]\n",
    "    print(f'Number of cars that can finish in time: {len(paths_in_time)}')\n",
    "\n",
    "def intersection_summary(sim):\n",
    "    print(f'Number of intersections: {len(sim.intersections)}')\n",
    "    intersections_used = sim.intersections[sim.intersections != None]\n",
    "    print(f'Number of used intersections: {len(intersections_used)}')\n",
    "\n",
    "def street_sumary(sim):\n",
    "    print(f'Number of streets: {len(sim.streets)}')\n",
    "    streets_used = [s for s in sim.streets if s.used]\n",
    "    print(f'Number of used streets: {len(streets_used)}')"
   ]
  },
  {
   "cell_type": "code",
   "execution_count": 3,
   "metadata": {},
   "outputs": [],
   "source": [
    "def upper_bound(sim):\n",
    "    \"\"\"\n",
    "    Theoretical maximum score if none of the cars ever has to wait at a traffic light.\n",
    "    \"\"\"\n",
    "    path_lengths = np.array([sum(p.length for p in car.path[1:]) for car in sim.cars])\n",
    "    return np.sum(sim.duration - path_lengths + sim.bonus)"
   ]
  },
  {
   "cell_type": "code",
   "execution_count": 4,
   "metadata": {},
   "outputs": [
    {
     "name": "stdout",
     "output_type": "stream",
     "text": [
      "##############################\n",
      "a_an_example.in.txt\n",
      "Number of intersections: 4\n",
      "Number of used intersections: 4\n",
      "Number of cars: 2\n",
      "Number of cars that can finish in time: 2\n",
      "Number of streets: 5\n",
      "Number of used streets: 4\n",
      "Upper bound of the score: 2,002\n",
      "##############################\n",
      "b_by_the_ocean.in.txt\n",
      "Number of intersections: 7073\n",
      "Number of used intersections: 7073\n",
      "Number of cars: 1000\n",
      "Number of cars that can finish in time: 1000\n",
      "Number of streets: 9102\n",
      "Number of used streets: 7964\n",
      "Upper bound of the score: 4,576,202\n",
      "##############################\n",
      "c_checkmate.in.txt\n",
      "Number of intersections: 10000\n",
      "Number of used intersections: 10000\n",
      "Number of cars: 1000\n",
      "Number of cars that can finish in time: 1000\n",
      "Number of streets: 35030\n",
      "Number of used streets: 11472\n",
      "Upper bound of the score: 1,328,389\n",
      "##############################\n",
      "d_daily_commute.in.txt\n",
      "Number of intersections: 8000\n",
      "Number of used intersections: 8000\n",
      "Number of cars: 1000\n",
      "Number of cars that can finish in time: 1000\n",
      "Number of streets: 95928\n",
      "Number of used streets: 83874\n",
      "Upper bound of the score: 3,986,591\n",
      "##############################\n",
      "e_etoile.in.txt\n",
      "Number of intersections: 500\n",
      "Number of used intersections: 500\n",
      "Number of cars: 1000\n",
      "Number of cars that can finish in time: 1000\n",
      "Number of streets: 998\n",
      "Number of used streets: 956\n",
      "Upper bound of the score: 921,203\n",
      "##############################\n",
      "f_forever_jammed.in.txt\n",
      "Number of intersections: 1662\n",
      "Number of used intersections: 1662\n",
      "Number of cars: 1000\n",
      "Number of cars that can finish in time: 1000\n",
      "Number of streets: 10000\n",
      "Number of used streets: 5333\n",
      "Upper bound of the score: 1,765,068\n",
      "UPPER BOUND TOTAL: 12,579,455\n"
     ]
    }
   ],
   "source": [
    "upper_bounds = []\n",
    "for d in DATA:\n",
    "    sim = Simulation.from_file(os.path.join(INPUT_FOLDER, d))\n",
    "    print('#' * 30)\n",
    "    print(d)\n",
    "    intersection_summary(sim)\n",
    "    car_summary(sim)\n",
    "    street_sumary(sim)\n",
    "    upper_bounds.append(upper_bound(sim))\n",
    "    print(f'Upper bound of the score: {upper_bounds[-1]:,}')\n",
    "\n",
    "print(f'UPPER BOUND TOTAL: {np.sum(upper_bounds):,}')"
   ]
  }
 ],
 "metadata": {
  "kernelspec": {
   "display_name": "venv",
   "language": "python",
   "name": "python3"
  },
  "language_info": {
   "codemirror_mode": {
    "name": "ipython",
    "version": 3
   },
   "file_extension": ".py",
   "mimetype": "text/x-python",
   "name": "python",
   "nbconvert_exporter": "python",
   "pygments_lexer": "ipython3",
   "version": "3.10.2"
  },
  "orig_nbformat": 4,
  "vscode": {
   "interpreter": {
    "hash": "636b0a7c9d4822c5e655096510b3facdc606f42f3bb28029e73fc29b4edfcf77"
   }
  }
 },
 "nbformat": 4,
 "nbformat_minor": 2
}
