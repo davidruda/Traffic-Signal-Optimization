{
 "cells": [
  {
   "cell_type": "code",
   "execution_count": 1,
   "metadata": {},
   "outputs": [],
   "source": [
    "import os\n",
    "import numpy as np\n",
    "import matplotlib.pyplot as plt\n",
    "\n",
    "from traffic_signaling.city_plan import *\n",
    "\n",
    "INPUT_FOLDER = 'traffic_signaling/input_data'\n",
    "DATA = [\n",
    "    'a.txt',\n",
    "    'b.txt',\n",
    "    'c.txt',\n",
    "    'd.txt',\n",
    "    'e.txt',\n",
    "    'f.txt'\n",
    "]"
   ]
  },
  {
   "cell_type": "code",
   "execution_count": 2,
   "metadata": {},
   "outputs": [],
   "source": [
    "def path_duration(path):\n",
    "    # The car path begins at the end of the first street\n",
    "    return sum(street.length for street in path[1:])\n",
    "\n",
    "def car_summary(plan):\n",
    "    streets = np.array(plan.streets)\n",
    "    path_durations = np.array([path_duration(streets[car.path]) for car in plan.cars])\n",
    "    paths_in_time = path_durations[path_durations <= plan.duration]\n",
    "\n",
    "    print('Cars that can finish in time: '\n",
    "          f'{len(paths_in_time)}/{len(plan.cars)} '\n",
    "          f'({100 * len(paths_in_time) / len(plan.cars):.2f}%)')\n"
   ]
  },
  {
   "cell_type": "code",
   "execution_count": 3,
   "metadata": {},
   "outputs": [],
   "source": [
    "def intersection_summary(plan):\n",
    "    intersections_used = len([i for i in plan.intersections if i.used])\n",
    "\n",
    "    # Intersections with non-trivial schedule\n",
    "    intersections_with_schedule = len([i for i in plan.intersections if i.non_trivial])\n",
    "    intersections_one_street_used = intersections_used - intersections_with_schedule\n",
    "\n",
    "    print('Intersections used: '\n",
    "          f'{intersections_used}/{len(plan.intersections)} '\n",
    "          f'({100 * intersections_used / len(plan.intersections):.2f}%)')\n",
    "    print('Intersections with exactly one street used: '\n",
    "          f'{intersections_one_street_used}/{len(plan.intersections)} '\n",
    "          f'({100 * intersections_one_street_used / len(plan.intersections):.2f}%)')\n",
    "    print('Intersections with non-trivial schedule: '\n",
    "          f'{intersections_with_schedule}/{len(plan.intersections)} '\n",
    "          f'({100 * intersections_with_schedule / len(plan.intersections):.2f}%)')\n"
   ]
  },
  {
   "cell_type": "code",
   "execution_count": 4,
   "metadata": {},
   "outputs": [],
   "source": [
    "def street_summary(plan):\n",
    "    streets_used = [street for street in plan.streets if street.used]\n",
    "    print('Used streets: '\n",
    "          f'{len(streets_used)}/{len(plan.streets)} '\n",
    "          f'({100 * len(streets_used) / len(plan.streets):.2f}%)')"
   ]
  },
  {
   "cell_type": "code",
   "execution_count": 5,
   "metadata": {},
   "outputs": [],
   "source": [
    "def upper_bound(plan):\n",
    "    \"\"\"\n",
    "    Theoretical maximum score if none of the cars ever has to wait at a traffic light.\n",
    "    \"\"\"\n",
    "    streets = np.array(plan.streets)\n",
    "    path_durations = np.array([path_duration(streets[car.path]) for car in plan.cars])\n",
    "    score = np.sum(plan.duration - path_durations + plan.bonus)\n",
    "    print(f'Upper bound of the score: {score:,}')\n",
    "    return score"
   ]
  },
  {
   "cell_type": "code",
   "execution_count": 6,
   "metadata": {},
   "outputs": [],
   "source": [
    "def histogram(plan):\n",
    "    # used streets from intersections with non-trivial schedule\n",
    "    streets = plan.streets\n",
    "    street_ids = [streets[s].id for i in plan.intersections if i.non_trivial for s in i.incoming if streets[s].used]\n",
    "    car_counts = np.zeros(len(plan.streets))\n",
    "    for car in plan.cars:\n",
    "        car_counts[car.path[:-1]] += 1\n",
    "\n",
    "    #np.histogram(car_counts[street_ids])\n",
    "    values, counts = np.unique(car_counts[street_ids], return_counts=True)\n",
    "    values = values.astype(int)\n",
    "    print(f'Values: {values}')\n",
    "    print(f'Counts: {counts}')\n",
    "\n",
    "    plt.bar(values, counts)\n",
    "    plt.title('Histogram of cars passing through street')\n",
    "    plt.xlabel('Cars passing through')\n",
    "    plt.ylabel('Number of streets')\n",
    "\n",
    "    plt.show()\n"
   ]
  },
  {
   "cell_type": "code",
   "execution_count": 7,
   "metadata": {},
   "outputs": [
    {
     "name": "stdout",
     "output_type": "stream",
     "text": [
      "a.txt\n",
      "Intersections used: 3/4 (75.00%)\n",
      "Intersections with exactly one street used: 2/4 (50.00%)\n",
      "Intersections with non-trivial schedule: 1/4 (25.00%)\n",
      "Used streets: 4/5 (80.00%)\n",
      "Cars that can finish in time: 2/2 (100.00%)\n",
      "Upper bound of the score: 2,002\n",
      "----------------------------------------------------------------------\n",
      "b.txt\n",
      "Intersections used: 6296/7073 (89.01%)\n",
      "Intersections with exactly one street used: 4977/7073 (70.37%)\n",
      "Intersections with non-trivial schedule: 1319/7073 (18.65%)\n",
      "Used streets: 7964/9102 (87.50%)\n",
      "Cars that can finish in time: 1000/1000 (100.00%)\n",
      "Upper bound of the score: 4,576,202\n",
      "----------------------------------------------------------------------\n",
      "c.txt\n",
      "Intersections used: 7660/10000 (76.60%)\n",
      "Intersections with exactly one street used: 4468/10000 (44.68%)\n",
      "Intersections with non-trivial schedule: 3192/10000 (31.92%)\n",
      "Used streets: 11472/35030 (32.75%)\n",
      "Cars that can finish in time: 1000/1000 (100.00%)\n",
      "Upper bound of the score: 1,328,389\n",
      "----------------------------------------------------------------------\n",
      "d.txt\n",
      "Intersections used: 8000/8000 (100.00%)\n",
      "Intersections with exactly one street used: 0/8000 (0.00%)\n",
      "Intersections with non-trivial schedule: 8000/8000 (100.00%)\n",
      "Used streets: 83874/95928 (87.43%)\n",
      "Cars that can finish in time: 1000/1000 (100.00%)\n",
      "Upper bound of the score: 3,986,591\n",
      "----------------------------------------------------------------------\n",
      "e.txt\n",
      "Intersections used: 500/500 (100.00%)\n",
      "Intersections with exactly one street used: 263/500 (52.60%)\n",
      "Intersections with non-trivial schedule: 237/500 (47.40%)\n",
      "Used streets: 956/998 (95.79%)\n",
      "Cars that can finish in time: 1000/1000 (100.00%)\n",
      "Upper bound of the score: 921,203\n",
      "----------------------------------------------------------------------\n",
      "f.txt\n",
      "Intersections used: 1632/1662 (98.19%)\n",
      "Intersections with exactly one street used: 332/1662 (19.98%)\n",
      "Intersections with non-trivial schedule: 1300/1662 (78.22%)\n",
      "Used streets: 5333/10000 (53.33%)\n",
      "Cars that can finish in time: 1000/1000 (100.00%)\n",
      "Upper bound of the score: 1,765,068\n",
      "----------------------------------------------------------------------\n",
      "TOTAL UPPER BOUND: 12,579,455\n"
     ]
    }
   ],
   "source": [
    "upper_bounds = []\n",
    "for d in DATA:\n",
    "    plan = CityPlan(os.path.join(INPUT_FOLDER, d))\n",
    "    print(d)\n",
    "    intersection_summary(plan)\n",
    "    street_summary(plan)\n",
    "    car_summary(plan)\n",
    "    upper_bounds.append(upper_bound(plan))\n",
    "    print('-' * 70)\n",
    "    #histogram(plan)\n",
    "\n",
    "print(f'TOTAL UPPER BOUND: {sum(upper_bounds):,}')"
   ]
  }
 ],
 "metadata": {
  "kernelspec": {
   "display_name": "venv",
   "language": "python",
   "name": "python3"
  },
  "language_info": {
   "codemirror_mode": {
    "name": "ipython",
    "version": 3
   },
   "file_extension": ".py",
   "mimetype": "text/x-python",
   "name": "python",
   "nbconvert_exporter": "python",
   "pygments_lexer": "ipython3",
   "version": "3.10.2"
  },
  "orig_nbformat": 4
 },
 "nbformat": 4,
 "nbformat_minor": 2
}
